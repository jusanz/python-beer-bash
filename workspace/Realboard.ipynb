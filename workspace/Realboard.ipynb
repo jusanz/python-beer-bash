{
 "cells": [
  {
   "cell_type": "code",
   "execution_count": 1,
   "id": "a50f8d10-7118-4930-901a-1d8ef18f8b23",
   "metadata": {},
   "outputs": [],
   "source": [
    "from selenium import webdriver\n",
    "from selenium.webdriver.chrome.service import Service as ChromeService\n",
    "from webdriver_manager.chrome import ChromeDriverManager\n",
    "from selenium.webdriver.common.by import By\n",
    "from selenium.webdriver.common.keys import Keys\n",
    "import selenium.common.exceptions\n",
    "from selenium.webdriver.common.action_chains import ActionChains\n",
    "import time"
   ]
  },
  {
   "cell_type": "code",
   "execution_count": 2,
   "id": "d09214d6-8167-45c1-9e83-796143ae43a5",
   "metadata": {},
   "outputs": [],
   "source": [
    "from dotenv import load_dotenv\n",
    "import os\n",
    "from tqdm import tqdm\n",
    "import datetime\n",
    "import matplotlib.pyplot as plt"
   ]
  },
  {
   "cell_type": "code",
   "execution_count": 3,
   "id": "e14041bb-e63d-4431-b313-ba2018589882",
   "metadata": {},
   "outputs": [],
   "source": [
    "import xlwings as xw"
   ]
  },
  {
   "cell_type": "code",
   "execution_count": 4,
   "id": "5dd94d79-2de8-4e87-aa52-0c602d09c130",
   "metadata": {},
   "outputs": [],
   "source": [
    "load_dotenv()\n",
    "realboard_url = os.getenv(\"REALBOARD_URL\")\n",
    "realboard_username = os.getenv(\"REALBOARD_USERNAME\")\n",
    "realboard_password = os.getenv(\"REALBOARD_PASSWORD\")"
   ]
  },
  {
   "cell_type": "code",
   "execution_count": 5,
   "id": "648388c7-efa2-44c9-8eac-f5c3b9535e2d",
   "metadata": {},
   "outputs": [],
   "source": [
    "scroll_script = \"arguments[0].scrollIntoView({ behavior: 'smooth', block: 'center' });\""
   ]
  },
  {
   "cell_type": "code",
   "execution_count": 6,
   "id": "f04eb5ba-d93f-4d99-830b-eaa7ede8a53f",
   "metadata": {},
   "outputs": [],
   "source": [
    "service = ChromeService(ChromeDriverManager().install())"
   ]
  },
  {
   "cell_type": "code",
   "execution_count": 7,
   "id": "6cb50a1c-a023-4ec4-871e-0a8a716a1113",
   "metadata": {},
   "outputs": [],
   "source": [
    "driver = webdriver.Chrome(service=service)\n",
    "actions = ActionChains(driver)"
   ]
  },
  {
   "cell_type": "code",
   "execution_count": 8,
   "id": "3ecbdcfb-5956-46b1-95c0-d48e5cbc56da",
   "metadata": {},
   "outputs": [],
   "source": [
    "driver.get(realboard_url)"
   ]
  },
  {
   "cell_type": "code",
   "execution_count": 9,
   "id": "500ca150-cc07-460f-a425-df997ec534ae",
   "metadata": {},
   "outputs": [],
   "source": [
    "# user name\n",
    "xpath = '//*[@id=\"UserName\"]'\n",
    "text = realboard_username\n",
    "e = driver.find_element(by=By.XPATH, value=xpath)\n",
    "driver.execute_script(scroll_script, e)\n",
    "time.sleep(0.5)\n",
    "e.clear()\n",
    "for c in text:\n",
    "    e.send_keys(c)\n",
    "    time.sleep(0.01)"
   ]
  },
  {
   "cell_type": "code",
   "execution_count": 10,
   "id": "7623c407-2670-43a1-ba4f-d07e34e3c532",
   "metadata": {},
   "outputs": [],
   "source": [
    "# password\n",
    "xpath = '//*[@id=\"Password\"]'\n",
    "text = realboard_password\n",
    "e = driver.find_element(by=By.XPATH, value=xpath)\n",
    "driver.execute_script(scroll_script, e)\n",
    "time.sleep(0.5)\n",
    "e.clear()\n",
    "for c in text:\n",
    "    e.send_keys(c)\n",
    "    time.sleep(0.01)"
   ]
  },
  {
   "cell_type": "code",
   "execution_count": 11,
   "id": "e1a57a8c-7d62-44d2-b9b9-066f6fb9cd82",
   "metadata": {},
   "outputs": [],
   "source": [
    "# login button\n",
    "xpath = '//*[@id=\"default-login-form\"]/form/div[3]/input'\n",
    "e = driver.find_element(by=By.XPATH, value=xpath)\n",
    "driver.execute_script(scroll_script, e)\n",
    "time.sleep(0.5)\n",
    "actions.move_to_element(e).perform()\n",
    "time.sleep(0.5)\n",
    "e.click()"
   ]
  },
  {
   "cell_type": "code",
   "execution_count": null,
   "id": "b7b3f909-2823-41b9-99d7-2bc8525db934",
   "metadata": {},
   "outputs": [],
   "source": []
  },
  {
   "cell_type": "code",
   "execution_count": 13,
   "id": "de5cbc99-48c5-4d5b-91c6-71593d2148dc",
   "metadata": {},
   "outputs": [],
   "source": [
    "book = xw.Book()"
   ]
  },
  {
   "cell_type": "code",
   "execution_count": 15,
   "id": "a289f01b-1450-4e7b-bb21-c518e63c8537",
   "metadata": {},
   "outputs": [],
   "source": [
    "ws = book.sheets[0]"
   ]
  },
  {
   "cell_type": "code",
   "execution_count": 18,
   "id": "b029d4d9-c1df-4f6e-9016-8a5b413b683f",
   "metadata": {},
   "outputs": [],
   "source": [
    "ws.range((1,1)).value=[\"a\", \"b\"]"
   ]
  },
  {
   "cell_type": "code",
   "execution_count": 20,
   "id": "894bddb0-ca68-4e22-a866-2d51690202d4",
   "metadata": {},
   "outputs": [
    {
     "name": "stderr",
     "output_type": "stream",
     "text": [
      "100%|█████████████████████████████████████████| 539/539 [02:57<00:00,  3.04it/s]\n"
     ]
    }
   ],
   "source": [
    "data = []\n",
    "xpath = '//*[@id=\"content\"]/div/div/section/div[4]/div/div[2]/div[2]/div[1]/div[3]/div/div/div[1]'\n",
    "offset = 30\n",
    "e = driver.find_element(by=By.XPATH, value=xpath)\n",
    "actions.move_to_element_with_offset(e, - e.size[\"width\"]/2 + offset, 0).perform()\n",
    "y = 1\n",
    "for _ in tqdm(range(e.size[\"width\"] - 2 * offset)):\n",
    "    actions.move_by_offset(1, 0).perform()\n",
    "    balloons = e.find_elements(by=By.XPATH, value='.//div[contains(\"amcharts-balloon-div\", @class)]')\n",
    "    if not len(balloons): continue\n",
    "    ws.range((y,1)).value = [b.text for b in balloons]\n",
    "    y += 1"
   ]
  },
  {
   "cell_type": "code",
   "execution_count": 89,
   "id": "ec877fe9-56e1-4752-bc5a-d1afc151c7d1",
   "metadata": {},
   "outputs": [
    {
     "data": {
      "text/plain": [
       "{'temp': '20.15', 'humid': '20.15', 'datetime': '20.15'}"
      ]
     },
     "execution_count": 89,
     "metadata": {},
     "output_type": "execute_result"
    }
   ],
   "source": [
    "data[10]"
   ]
  },
  {
   "cell_type": "code",
   "execution_count": null,
   "id": "019ea3aa-878e-4827-a45e-6ccbc75b59f9",
   "metadata": {},
   "outputs": [],
   "source": []
  }
 ],
 "metadata": {
  "kernelspec": {
   "display_name": "Python 3 (ipykernel)",
   "language": "python",
   "name": "python3"
  },
  "language_info": {
   "codemirror_mode": {
    "name": "ipython",
    "version": 3
   },
   "file_extension": ".py",
   "mimetype": "text/x-python",
   "name": "python",
   "nbconvert_exporter": "python",
   "pygments_lexer": "ipython3",
   "version": "3.12.0"
  }
 },
 "nbformat": 4,
 "nbformat_minor": 5
}
