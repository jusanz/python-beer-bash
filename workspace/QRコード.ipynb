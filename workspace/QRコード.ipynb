{
 "cells": [
  {
   "cell_type": "code",
   "execution_count": null,
   "id": "e49b1125-fc1e-4ec3-9876-7b6d4e4e76ce",
   "metadata": {},
   "outputs": [],
   "source": [
    "!pip install -q qrcode python-dotenv matplotlib"
   ]
  },
  {
   "cell_type": "markdown",
   "id": "7dc9cb03-a181-4191-904a-4c53a2655d09",
   "metadata": {},
   "source": [
    "必要なパッケージの読み込み"
   ]
  },
  {
   "cell_type": "code",
   "execution_count": 17,
   "id": "0729751d-521d-42d7-ae03-79cca510c503",
   "metadata": {},
   "outputs": [],
   "source": [
    "import qrcode\n",
    "import os\n",
    "from dotenv import load_dotenv\n",
    "from matplotlib import pyplot as plt"
   ]
  },
  {
   "cell_type": "markdown",
   "id": "46ed1e24-d476-4da4-a106-e78939d31f1f",
   "metadata": {},
   "source": [
    "## 環境変数からWifiのSSIDとパスワードを取得します\n",
    "\n",
    "`python-dotenv`パッケージを使って`.env`ファイルに書かれた環境変数を取得しています"
   ]
  },
  {
   "cell_type": "code",
   "execution_count": 2,
   "id": "550f1000-c6bb-4da7-8704-9c039bb3b966",
   "metadata": {},
   "outputs": [],
   "source": [
    "load_dotenv()\n",
    "wifi_ssid = os.getenv(\"WIFI_SSID\", \"\")\n",
    "wifi_password = os.getenv(\"WIFI_PASSWORD\", \"\")"
   ]
  },
  {
   "cell_type": "markdown",
   "id": "85101f54-1384-43a5-9538-a8cc04269c29",
   "metadata": {},
   "source": [
    "## QRコードの生成"
   ]
  },
  {
   "cell_type": "code",
   "execution_count": 3,
   "id": "cde6d0ad-acc7-4cd4-869a-d23baa6815df",
   "metadata": {},
   "outputs": [],
   "source": [
    "text = f'WIFI:S:{wifi_ssid};T:WPA;P:{wifi_password};;'\n",
    "img = qrcode.make(text)"
   ]
  },
  {
   "cell_type": "markdown",
   "id": "cbed86b4-6027-42a7-92ba-71ca90844dc8",
   "metadata": {},
   "source": [
    "## QRコードの表示\n",
    "\n",
    "値だけ書くと表示してくれます（print不要）"
   ]
  },
  {
   "cell_type": "code",
   "execution_count": 6,
   "id": "077baf9c-57e3-4342-93fe-bf85875c1fa3",
   "metadata": {},
   "outputs": [
    {
     "data": {
      "image/jpeg": "[encoded data removed]",
      "image/png": "[encoded data removed]",
      "text/plain": [
       "<qrcode.image.pil.PilImage at 0x10b2cfbc0>"
      ]
     },
     "execution_count": 6,
     "metadata": {},
     "output_type": "execute_result"
    }
   ],
   "source": [
    "img"
   ]
  },
  {
   "cell_type": "markdown",
   "id": "6148bc89-1751-451f-9865-1d4c114b90cd",
   "metadata": {},
   "source": [
    "## QRコードの保存"
   ]
  },
  {
   "cell_type": "code",
   "execution_count": 12,
   "id": "b54fb042-02de-495f-94d6-11010d05ebb8",
   "metadata": {},
   "outputs": [],
   "source": [
    "img.save(\"qrcode.png\")"
   ]
  },
  {
   "cell_type": "markdown",
   "id": "5d91ded0-14cb-4dae-a7cc-ce25d43f2130",
   "metadata": {},
   "source": [
    "今回はもう不要なので削除します"
   ]
  },
  {
   "cell_type": "code",
   "execution_count": 13,
   "id": "b5923e78-9b98-41ee-9267-69cef3e32bfc",
   "metadata": {},
   "outputs": [],
   "source": [
    "os.remove(\"qrcode.png\")"
   ]
  },
  {
   "cell_type": "code",
   "execution_count": null,
   "id": "c9289de0-55d8-4d0d-81ce-42107c51a7f8",
   "metadata": {},
   "outputs": [],
   "source": []
  }
 ],
 "metadata": {
  "kernelspec": {
   "display_name": "Python 3 (ipykernel)",
   "language": "python",
   "name": "python3"
  },
  "language_info": {
   "codemirror_mode": {
    "name": "ipython",
    "version": 3
   },
   "file_extension": ".py",
   "mimetype": "text/x-python",
   "name": "python",
   "nbconvert_exporter": "python",
   "pygments_lexer": "ipython3",
   "version": "3.12.0"
  }
 },
 "nbformat": 4,
 "nbformat_minor": 5
}
